{
 "metadata": {
  "name": ""
 },
 "nbformat": 3,
 "nbformat_minor": 0,
 "worksheets": [
  {
   "cells": [
    {
     "cell_type": "heading",
     "level": 1,
     "metadata": {},
     "source": [
      "Load MT data and look at responses"
     ]
    },
    {
     "cell_type": "markdown",
     "metadata": {},
     "source": [
      "The [COPROD2](http://mtnet.dias.ie/data/coprod2/coprod2.html) dataset consists of \"thirty-five sites on a 300-km east-west profile just north of the U.S./Canadian border in central Canad.\n",
      "\n",
      "This notebook shows how to look at the MT responses from one site on the COPROD2 dataset."
     ]
    },
    {
     "cell_type": "code",
     "collapsed": false,
     "input": [
      "from mtpy.core import edi\n",
      "from mtpy.imaging import plotresponse, mtplot\n",
      "from mtpy.analysis import geometry, pt\n",
      "\n",
      "# Local functions to help set up examples\n",
      "from examples import download_coprod2_corrected\n",
      "\n",
      "%pylab --no-import-all inline"
     ],
     "language": "python",
     "metadata": {},
     "outputs": [],
     "prompt_number": 1
    },
    {
     "cell_type": "markdown",
     "metadata": {},
     "source": [
      "## Step 1\n",
      "\n",
      "Download COPROD2 dataset"
     ]
    },
    {
     "cell_type": "code",
     "collapsed": false,
     "input": [
      "download_coprod2_corrected()"
     ],
     "language": "python",
     "metadata": {},
     "outputs": [],
     "prompt_number": 2
    },
    {
     "cell_type": "markdown",
     "metadata": {},
     "source": [
      "## Step 2\n",
      "\n",
      "Read EDI file pc5000c"
     ]
    },
    {
     "cell_type": "code",
     "collapsed": false,
     "input": [
      "edifn = os.path.join('edis', 'coprod2_corrected', 'pc5000c.edi')\n",
      "e = edi.Edi()\n",
      "e.readfile(edifn)"
     ],
     "language": "python",
     "metadata": {},
     "outputs": []
    },
    {
     "cell_type": "code",
     "collapsed": false,
     "input": [
      "for name, info_dict in zip(('HEAD', 'DEFINEMEAS'), (e.head, e.definemeas)):\n",
      "    print name + ':'\n",
      "    for key, val in info_dict.items():\n",
      "        print '%s: %s' % (key.rjust(14), val)\n",
      "    print ''"
     ],
     "language": "python",
     "metadata": {},
     "outputs": []
    },
    {
     "cell_type": "markdown",
     "metadata": {},
     "source": [
      "## Step 3\n",
      "\n",
      "Plot apparent resistivity and phase curves"
     ]
    },
    {
     "cell_type": "code",
     "collapsed": false,
     "input": [
      "gs = GridSpec(1, 2)\n",
      "fig = plt.figure(figsize=(15, 4))\n",
      "ax_res = fig.add_subplot(gs[0])\n",
      "ax_phase = fig.add_subplot(gs[1])\n",
      "\n",
      "res = e.res_phase[0]\n",
      "phase = e.res_phase[1]\n",
      "ax_res.loglog(e.freq, res[:, 0, 1], label='xy')\n",
      "ax_res.loglog(e.freq, res[:, 1, 0], label='yx')\n",
      "\n",
      "ax_phase.semilogx(e.freq, phase[:, 0, 1], label='xy')\n",
      "ax_phase.semilogx(e.freq, phase[:, 1, 0] + 180, label='yx')\n",
      "\n",
      "for ax in (ax_res, ax_phase):\n",
      "    ax.set_xlim(1e3, 1e-4)\n",
      "    ax.legend(loc='best')\n",
      "    ax.set_xlabel('Frequency [Hz]')\n",
      "\n",
      "ax_res.set_ylabel(r'Apparent resistivity [$\\Omega$m]')\n",
      "ax_phase.set_ylabel('Phase [deg]')"
     ],
     "language": "python",
     "metadata": {},
     "outputs": []
    },
    {
     "cell_type": "code",
     "collapsed": false,
     "input": [
      "mtplot.plot_mt_response(fn=edifn)"
     ],
     "language": "python",
     "metadata": {},
     "outputs": []
    },
    {
     "cell_type": "code",
     "collapsed": false,
     "input": [
      "mtplot.plot_pt(fn=edifn)"
     ],
     "language": "python",
     "metadata": {},
     "outputs": []
    },
    {
     "cell_type": "code",
     "collapsed": false,
     "input": [],
     "language": "python",
     "metadata": {},
     "outputs": []
    }
   ],
   "metadata": {}
  }
 ]
}